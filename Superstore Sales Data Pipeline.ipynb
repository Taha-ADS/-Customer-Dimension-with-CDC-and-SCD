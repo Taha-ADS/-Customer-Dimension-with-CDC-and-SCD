{
 "cells": [
  {
   "cell_type": "code",
   "execution_count": 0,
   "metadata": {
    "application/vnd.databricks.v1+cell": {
     "cellMetadata": {},
     "inputWidgets": {},
     "nuid": "25db62f0-c716-4cb3-b1dd-dc3c7f6a4c48",
     "showTitle": false,
     "tableResultSettingsMap": {},
     "title": ""
    }
   },
   "outputs": [],
   "source": [
    "from pyspark.sql import SparkSession\n",
    "from pyspark.sql.functions import col, year, month\n",
    "\n",
    "# -------------------------------\n",
    "# Initialize Spark Session\n",
    "# -------------------------------\n",
    "spark = SparkSession.builder \\\n",
    "    .appName(\"SuperstoreSalesPipeline\") \\\n",
    "    .getOrCreate()"
   ]
  },
  {
   "cell_type": "code",
   "execution_count": 0,
   "metadata": {
    "application/vnd.databricks.v1+cell": {
     "cellMetadata": {},
     "inputWidgets": {},
     "nuid": "7d3af062-0e05-4d95-a0d6-8c4980882078",
     "showTitle": false,
     "tableResultSettingsMap": {},
     "title": ""
    }
   },
   "outputs": [],
   "source": [
    "# -------------------------------\n",
    "# Step 1: Data Ingestion\n",
    "# -------------------------------\n",
    "input_path = \"/Volumes/workspace/data/data/Sample - Superstore.csv\"\n",
    "\n",
    "df = spark.read.csv(\n",
    "    input_path,\n",
    "    header=True,\n",
    "    inferSchema=True\n",
    ")"
   ]
  },
  {
   "cell_type": "code",
   "execution_count": 0,
   "metadata": {
    "application/vnd.databricks.v1+cell": {
     "cellMetadata": {},
     "inputWidgets": {},
     "nuid": "7be7549b-9c1e-4baa-b7a0-b8e9c6e6cf4d",
     "showTitle": false,
     "tableResultSettingsMap": {},
     "title": ""
    }
   },
   "outputs": [],
   "source": [
    "# -------------------------------\n",
    "# Step 2: Data Transformation\n",
    "# -------------------------------\n",
    "df = df.withColumn(\"Year\", year(col(\"Order Date\"))) \\\n",
    "       .withColumn(\"Month\", month(col(\"Order Date\")))\n",
    "\n",
    "# -------------------------------\n",
    "# Step 3: Store as Parquet\n",
    "# -------------------------------\n",
    "flat_path = \"/Volumes/workspace/data/data\"\n",
    "\n",
    "df.write \\\n",
    "  .mode(\"overwrite\") \\\n",
    "  .format(\"parquet\") \\\n",
    "  .save(flat_path)\n",
    "\n",
    "# -------------------------------\n",
    "# Step 4: Create Delta Table (Flat)\n",
    "# -------------------------------\n",
    "spark.sql(f\"\"\"\n",
    "    CREATE TABLE IF NOT EXISTS workspace.data.sales_flat (\n",
    "        RowID INT,\n",
    "        OrderID STRING,\n",
    "        OrderDate DATE,\n",
    "        ShipDate DATE,\n",
    "        ShipMode STRING,\n",
    "        CustomerID STRING,\n",
    "        CustomerName STRING,\n",
    "        Segment STRING,\n",
    "        Country STRING,\n",
    "        City STRING,\n",
    "        State STRING,\n",
    "        PostalCode STRING,\n",
    "        Region STRING,\n",
    "        ProductID STRING,\n",
    "        Category STRING,\n",
    "        SubCategory STRING,\n",
    "        ProductName STRING,\n",
    "        Sales DOUBLE,\n",
    "        Quantity INT,\n",
    "        Discount DOUBLE,\n",
    "        Profit DOUBLE,\n",
    "        Year INT,\n",
    "        Month INT\n",
    "    )\n",
    "    USING DELTA\n",
    "    LOCATION 's3a://databricks-bucket-69/'\n",
    "\"\"\")"
   ]
  },
  {
   "cell_type": "code",
   "execution_count": 0,
   "metadata": {
    "application/vnd.databricks.v1+cell": {
     "cellMetadata": {},
     "inputWidgets": {},
     "nuid": "7d3d85b8-bcb9-413e-8e18-2b4aa251f2dd",
     "showTitle": false,
     "tableResultSettingsMap": {},
     "title": ""
    }
   },
   "outputs": [],
   "source": [
    "# -------------------------------\n",
    "# Step 5: Create Partitioned Table\n",
    "# -------------------------------\n",
    "spark.sql(\"\"\"\n",
    "    CREATE TABLE IF NOT EXISTS workspace.data.sales_partitioned_v3 (\n",
    "        SaleID INT,\n",
    "        Product STRING,\n",
    "        Amount DOUBLE,\n",
    "        Year INT,\n",
    "        Month INT\n",
    "    )\n",
    "    USING DELTA\n",
    "    OPTIONS (\n",
    "      path 's3a://databricks-bucket-69/sales_partitioned_v3'\n",
    "    )\n",
    "    PARTITIONED BY (Year, Month)\n",
    "\"\"\")"
   ]
  }
 ],
 "metadata": {
  "application/vnd.databricks.v1+notebook": {
   "computePreferences": null,
   "dashboards": [],
   "environmentMetadata": {
    "base_environment": "",
    "environment_version": "2"
   },
   "inputWidgetPreferences": null,
   "language": "python",
   "notebookMetadata": {
    "pythonIndentUnit": 4
   },
   "notebookName": "Superstore Sales Data Pipeline",
   "widgets": {}
  },
  "language_info": {
   "name": "python"
  }
 },
 "nbformat": 4,
 "nbformat_minor": 0
}