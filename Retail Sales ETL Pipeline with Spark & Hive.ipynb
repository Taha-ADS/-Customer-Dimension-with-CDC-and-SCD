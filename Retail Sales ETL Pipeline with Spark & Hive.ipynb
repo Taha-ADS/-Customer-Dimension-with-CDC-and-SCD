{
 "cells": [
  {
   "cell_type": "code",
   "execution_count": 0,
   "metadata": {
    "application/vnd.databricks.v1+cell": {
     "cellMetadata": {
      "byteLimit": 2048000,
      "rowLimit": 10000
     },
     "inputWidgets": {},
     "nuid": "adae687d-31a4-4cd3-bae4-2f16b58ad260",
     "showTitle": false,
     "tableResultSettingsMap": {},
     "title": ""
    }
   },
   "outputs": [
    {
     "output_type": "stream",
     "name": "stdout",
     "output_type": "stream",
     "text": [
      "✅ ETL complete — data saved & Hive table created.\n"
     ]
    }
   ],
   "source": [
    "# etl_hive_pipeline_databricks.py\n",
    "from pyspark.sql import SparkSession\n",
    "from pyspark.sql.functions import col, year, month, sum as _sum,to_date,expr\n",
    "\n",
    "# Spark session already exists in Databricks as 'spark'\n",
    "\n",
    "# ===== STEP 1: Load Data =====\n",
    "input_path = \"/Volumes/workspace/data/data/Sample - Superstore.csv\"\n",
    "df = spark.read.csv(input_path, header=True, inferSchema=True)\n",
    "\n",
    "df_transformed = df.withColumn(\n",
    "    \"Order_Date_Parsed\",\n",
    "    to_date(col(\"Order Date\"), \"M/d/yyyy\")\n",
    ").withColumn(\n",
    "    \"Year\",\n",
    "    year(col(\"Order_Date_Parsed\"))\n",
    ").withColumn(\n",
    "    \"Month\",\n",
    "    month(col(\"Order_Date_Parsed\"))\n",
    ").withColumn(\n",
    "    \"Sales_Double\",\n",
    "    expr(\"try_cast(Sales AS DOUBLE)\")\n",
    ")\n",
    "\n",
    "agg_df = df_transformed.groupBy(\n",
    "    \"Year\",\n",
    "    \"Month\",\n",
    "    \"Region\"\n",
    ").agg(\n",
    "    _sum(\"Sales_Double\").alias(\"TotalSales\")\n",
    ")\n",
    "\n",
    "\n",
    "# ===== STEP 4: Save as Hive Table =====\n",
    "agg_df.write \\\n",
    "    .mode(\"overwrite\") \\\n",
    "    .format(\"delta\") \\\n",
    "    .partitionBy(\"Year\", \"Month\") \\\n",
    "    .saveAsTable(\"retail_sales\")  # Saves to Hive metastore in Databricks\n",
    "\n",
    "print(\"✅ ETL complete — data saved & Hive table created.\")\n"
   ]
  },
  {
   "cell_type": "code",
   "execution_count": 0,
   "metadata": {
    "application/vnd.databricks.v1+cell": {
     "cellMetadata": {
      "byteLimit": 2048000,
      "rowLimit": 10000
     },
     "inputWidgets": {},
     "nuid": "472929da-5750-4d2c-a3c5-4b49e0bd6dd7",
     "showTitle": false,
     "tableResultSettingsMap": {},
     "title": ""
    }
   },
   "outputs": [
    {
     "output_type": "stream",
     "name": "stdout",
     "output_type": "stream",
     "text": [
      "+-------+------------------+\n| Region|        TotalSales|\n+-------+------------------+\n|   West|         28016.793|\n|   East|19715.352999999996|\n|  South|         15002.349|\n|Central|18493.120799999997|\n+-------+------------------+\n\n"
     ]
    }
   ],
   "source": [
    "# query_hive_databricks.py\n",
    "\n",
    "# Run SQL query directly on Hive Metastore table\n",
    "query = \"\"\"\n",
    "SELECT Region, SUM(TotalSales) AS TotalSales\n",
    "FROM retail_sales\n",
    "WHERE Year = 2017 AND Month = 12\n",
    "GROUP BY Region\n",
    "\"\"\"\n",
    "\n",
    "df = spark.sql(query)\n",
    "df.show()   # Show in Databricks notebook\n"
   ]
  },
  {
   "cell_type": "code",
   "execution_count": 0,
   "metadata": {
    "application/vnd.databricks.v1+cell": {
     "cellMetadata": {},
     "inputWidgets": {},
     "nuid": "d48d48e8-96b6-4b2f-a22f-b7ebebbff819",
     "showTitle": false,
     "tableResultSettingsMap": {},
     "title": ""
    }
   },
   "outputs": [],
   "source": [
    "%sql\n",
    "CREATE EXTERNAL TABLE IF NOT EXISTS retail_sales_external (\n",
    "    Region STRING,\n",
    "    TotalSales DOUBLE\n",
    ")\n",
    "PARTITIONED BY (Year INT, Month INT)\n",
    "STORED AS PARQUET\n",
    "LOCATION 'my_external_location/retail_sales_external';"
   ]
  }
 ],
 "metadata": {
  "application/vnd.databricks.v1+notebook": {
   "computePreferences": null,
   "dashboards": [],
   "environmentMetadata": {
    "base_environment": "",
    "environment_version": "2"
   },
   "inputWidgetPreferences": null,
   "language": "python",
   "notebookMetadata": {
    "mostRecentlyExecutedCommandWithImplicitDF": {
     "commandId": 5359054630175068,
     "dataframes": [
      "_sqldf"
     ]
    },
    "pythonIndentUnit": 4
   },
   "notebookName": "de",
   "widgets": {}
  },
  "language_info": {
   "name": "python"
  }
 },
 "nbformat": 4,
 "nbformat_minor": 0
}