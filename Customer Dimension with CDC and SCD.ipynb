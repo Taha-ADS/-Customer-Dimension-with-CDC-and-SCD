{
 "cells": [
  {
   "cell_type": "code",
   "execution_count": 0,
   "metadata": {
    "application/vnd.databricks.v1+cell": {
     "cellMetadata": {
      "byteLimit": 2048000,
      "rowLimit": 10000
     },
     "inputWidgets": {},
     "nuid": "3f6027bd-a36e-4f36-8174-caee8fb9b27a",
     "showTitle": false,
     "tableResultSettingsMap": {},
     "title": ""
    }
   },
   "outputs": [
    {
     "output_type": "display_data",
     "data": {
      "text/html": [
       "<style scoped>\n",
       "  .table-result-container {\n",
       "    max-height: 300px;\n",
       "    overflow: auto;\n",
       "  }\n",
       "  table, th, td {\n",
       "    border: 1px solid black;\n",
       "    border-collapse: collapse;\n",
       "  }\n",
       "  th, td {\n",
       "    padding: 5px;\n",
       "  }\n",
       "  th {\n",
       "    text-align: left;\n",
       "  }\n",
       "</style><div class='table-result-container'><table class='table-result'><thead style='background-color: white'><tr><th>id</th><th>name</th><th>region</th><th>valid_from</th><th>valid_to</th><th>is_current</th></tr></thead><tbody><tr><td>1</td><td>Alice</td><td>East</td><td>2020-01-01</td><td>null</td><td>true</td></tr><tr><td>2</td><td>Bob</td><td>West</td><td>2020-01-01</td><td>null</td><td>true</td></tr><tr><td>3</td><td>Carol</td><td>South</td><td>2020-01-01</td><td>null</td><td>true</td></tr></tbody></table></div>"
      ]
     },
     "metadata": {
      "application/vnd.databricks.v1+output": {
       "addedWidgets": {},
       "aggData": [],
       "aggError": "",
       "aggOverflow": false,
       "aggSchema": [],
       "aggSeriesLimitReached": false,
       "aggType": "",
       "arguments": {},
       "columnCustomDisplayInfos": {},
       "data": [
        [
         1,
         "Alice",
         "East",
         "2020-01-01",
         null,
         true
        ],
        [
         2,
         "Bob",
         "West",
         "2020-01-01",
         null,
         true
        ],
        [
         3,
         "Carol",
         "South",
         "2020-01-01",
         null,
         true
        ]
       ],
       "datasetInfos": [],
       "dbfsResultPath": null,
       "isJsonSchema": true,
       "metadata": {},
       "overflow": false,
       "plotOptions": {
        "customPlotOptions": {},
        "displayType": "table",
        "pivotAggregation": null,
        "pivotColumns": null,
        "xColumns": null,
        "yColumns": null
       },
       "removedWidgets": [],
       "schema": [
        {
         "metadata": "{}",
         "name": "id",
         "type": "\"integer\""
        },
        {
         "metadata": "{}",
         "name": "name",
         "type": "\"string\""
        },
        {
         "metadata": "{}",
         "name": "region",
         "type": "\"string\""
        },
        {
         "metadata": "{}",
         "name": "valid_from",
         "type": "\"date\""
        },
        {
         "metadata": "{}",
         "name": "valid_to",
         "type": "\"date\""
        },
        {
         "metadata": "{}",
         "name": "is_current",
         "type": "\"boolean\""
        }
       ],
       "type": "table"
      }
     },
     "output_type": "display_data"
    }
   ],
   "source": [
    "from pyspark.sql import Row\n",
    "from datetime import date\n",
    "from pyspark.sql.types import (\n",
    "    StructType,\n",
    "    StructField,\n",
    "    IntegerType,\n",
    "    StringType,\n",
    "    DateType,\n",
    "    BooleanType\n",
    ")\n",
    "\n",
    "schema = StructType([\n",
    "    StructField(\"id\", IntegerType(), False),\n",
    "    StructField(\"name\", StringType(), False),\n",
    "    StructField(\"region\", StringType(), False),\n",
    "    StructField(\"valid_from\", DateType(), False),\n",
    "    StructField(\"valid_to\", DateType(), True),\n",
    "    StructField(\"is_current\", BooleanType(), False)\n",
    "])\n",
    "\n",
    "initial_data = [\n",
    "    Row(id=1, name=\"Alice\", region=\"East\",  valid_from=date(2020,1,1), valid_to=None, is_current=True),\n",
    "    Row(id=2, name=\"Bob\",   region=\"West\",  valid_from=date(2020,1,1), valid_to=None, is_current=True),\n",
    "    Row(id=3, name=\"Carol\", region=\"South\", valid_from=date(2020,1,1), valid_to=None, is_current=True),\n",
    "]\n",
    "\n",
    "df_customers = spark.createDataFrame(initial_data, schema=schema)\n",
    "df_customers.write.mode(\"overwrite\").saveAsTable(\"customer_dim\")\n",
    "\n",
    "display(spark.sql(\"SELECT * FROM customer_dim\"))"
   ]
  },
  {
   "cell_type": "code",
   "execution_count": 0,
   "metadata": {
    "application/vnd.databricks.v1+cell": {
     "cellMetadata": {
      "byteLimit": 2048000,
      "rowLimit": 10000
     },
     "inputWidgets": {},
     "nuid": "595a1af7-134c-439f-9606-63dc354c2f18",
     "showTitle": false,
     "tableResultSettingsMap": {},
     "title": ""
    }
   },
   "outputs": [
    {
     "output_type": "stream",
     "name": "stdout",
     "output_type": "stream",
     "text": [
      "+---+-----+------+----------+----------+----------+\n| id| name|region|valid_from|  valid_to|is_current|\n+---+-----+------+----------+----------+----------+\n|  1|Alice|  East|2020-01-01|      NULL|      true|\n|  2|  Bob|  West|2020-01-01|      NULL|      true|\n|  3|Carol| South|2020-01-01|2020-12-31|     false|\n|  3|Carol| North|2021-01-01|      NULL|      true|\n+---+-----+------+----------+----------+----------+\n\n"
     ]
    }
   ],
   "source": [
    "# Step 2a: Close old record (set valid_to + is_current=False)\n",
    "spark.sql(\"\"\"\n",
    "UPDATE customer_dim\n",
    "SET valid_to = DATE('2020-12-31'), is_current = false\n",
    "WHERE id = 3 AND is_current = true\n",
    "\"\"\")\n",
    "\n",
    "# Step 2b: Insert new record for Carol in North\n",
    "new_data = [\n",
    "    Row(id=3, name=\"Carol\", region=\"North\",\n",
    "        valid_from=date(2021,1,1), valid_to=None, is_current=True)\n",
    "]\n",
    "df_update = spark.createDataFrame(new_data, schema = schema)\n",
    "df_update.write.mode(\"append\").saveAsTable(\"customer_dim\")\n",
    "\n",
    "spark.sql(\"SELECT * FROM customer_dim ORDER BY id, valid_from\").show()\n"
   ]
  },
  {
   "cell_type": "code",
   "execution_count": 0,
   "metadata": {
    "application/vnd.databricks.v1+cell": {
     "cellMetadata": {
      "byteLimit": 2048000,
      "implicitDf": true,
      "rowLimit": 10000
     },
     "inputWidgets": {},
     "nuid": "4ec85f3b-7a28-449f-a8c1-8cb5adcc423c",
     "showTitle": false,
     "tableResultSettingsMap": {},
     "title": ""
    }
   },
   "outputs": [
    {
     "output_type": "display_data",
     "data": {
      "text/html": [
       "<style scoped>\n",
       "  .table-result-container {\n",
       "    max-height: 300px;\n",
       "    overflow: auto;\n",
       "  }\n",
       "  table, th, td {\n",
       "    border: 1px solid black;\n",
       "    border-collapse: collapse;\n",
       "  }\n",
       "  th, td {\n",
       "    padding: 5px;\n",
       "  }\n",
       "  th {\n",
       "    text-align: left;\n",
       "  }\n",
       "</style><div class='table-result-container'><table class='table-result'><thead style='background-color: white'><tr><th>id</th><th>name</th><th>region</th><th>valid_from</th><th>valid_to</th><th>is_current</th></tr></thead><tbody><tr><td>3</td><td>Carol</td><td>South</td><td>2020-01-01</td><td>2020-12-31</td><td>false</td></tr><tr><td>3</td><td>Carol</td><td>North</td><td>2021-01-01</td><td>null</td><td>true</td></tr></tbody></table></div>"
      ]
     },
     "metadata": {
      "application/vnd.databricks.v1+output": {
       "addedWidgets": {},
       "aggData": [],
       "aggError": "",
       "aggOverflow": false,
       "aggSchema": [],
       "aggSeriesLimitReached": false,
       "aggType": "",
       "arguments": {},
       "columnCustomDisplayInfos": {},
       "data": [
        [
         3,
         "Carol",
         "South",
         "2020-01-01",
         "2020-12-31",
         false
        ],
        [
         3,
         "Carol",
         "North",
         "2021-01-01",
         null,
         true
        ]
       ],
       "datasetInfos": [
        {
         "name": "_sqldf",
         "schema": {
          "fields": [
           {
            "metadata": {},
            "name": "id",
            "nullable": true,
            "type": "integer"
           },
           {
            "metadata": {},
            "name": "name",
            "nullable": true,
            "type": "string"
           },
           {
            "metadata": {},
            "name": "region",
            "nullable": true,
            "type": "string"
           },
           {
            "metadata": {},
            "name": "valid_from",
            "nullable": true,
            "type": "date"
           },
           {
            "metadata": {},
            "name": "valid_to",
            "nullable": true,
            "type": "date"
           },
           {
            "metadata": {},
            "name": "is_current",
            "nullable": true,
            "type": "boolean"
           }
          ],
          "type": "struct"
         },
         "tableIdentifier": null,
         "typeStr": "pyspark.sql.connect.dataframe.DataFrame"
        }
       ],
       "dbfsResultPath": null,
       "isJsonSchema": true,
       "metadata": {
        "createTempViewForImplicitDf": true,
        "dataframeName": "_sqldf",
        "executionCount": 6
       },
       "overflow": false,
       "plotOptions": {
        "customPlotOptions": {},
        "displayType": "table",
        "pivotAggregation": null,
        "pivotColumns": null,
        "xColumns": null,
        "yColumns": null
       },
       "removedWidgets": [],
       "schema": [
        {
         "metadata": "{}",
         "name": "id",
         "type": "\"integer\""
        },
        {
         "metadata": "{}",
         "name": "name",
         "type": "\"string\""
        },
        {
         "metadata": "{}",
         "name": "region",
         "type": "\"string\""
        },
        {
         "metadata": "{}",
         "name": "valid_from",
         "type": "\"date\""
        },
        {
         "metadata": "{}",
         "name": "valid_to",
         "type": "\"date\""
        },
        {
         "metadata": "{}",
         "name": "is_current",
         "type": "\"boolean\""
        }
       ],
       "type": "table"
      }
     },
     "output_type": "display_data"
    }
   ],
   "source": [
    "%sql\n",
    "-- Show full history of a customer\n",
    "SELECT * FROM customer_dim WHERE id = 3 ORDER BY valid_from;\n"
   ]
  },
  {
   "cell_type": "code",
   "execution_count": 0,
   "metadata": {
    "application/vnd.databricks.v1+cell": {
     "cellMetadata": {},
     "inputWidgets": {},
     "nuid": "ae9217e1-c1e7-4103-bc24-3041a86c1e44",
     "showTitle": false,
     "tableResultSettingsMap": {},
     "title": ""
    }
   },
   "outputs": [],
   "source": []
  }
 ],
 "metadata": {
  "application/vnd.databricks.v1+notebook": {
   "computePreferences": null,
   "dashboards": [],
   "environmentMetadata": {
    "base_environment": "",
    "environment_version": "2"
   },
   "inputWidgetPreferences": null,
   "language": "python",
   "notebookMetadata": {
    "mostRecentlyExecutedCommandWithImplicitDF": {
     "commandId": 5916667321093955,
     "dataframes": [
      "_sqldf"
     ]
    },
    "pythonIndentUnit": 4
   },
   "notebookName": "cdc",
   "widgets": {}
  },
  "language_info": {
   "name": "python"
  }
 },
 "nbformat": 4,
 "nbformat_minor": 0
}